{
 "cells": [
  {
   "cell_type": "code",
   "execution_count": 10,
   "id": "794c0058-6f75-4216-899c-8ee34b6a2001",
   "metadata": {},
   "outputs": [],
   "source": [
    "import torch\n",
    "import matplotlib.pyplot as plt\n",
    "import numpy as np"
   ]
  },
  {
   "cell_type": "code",
   "execution_count": 3,
   "id": "04619f15-27f6-49ae-adb6-182f7644109d",
   "metadata": {},
   "outputs": [],
   "source": [
    "sample = torch.rand((4,3,2,2))"
   ]
  },
  {
   "cell_type": "code",
   "execution_count": 4,
   "id": "ad42cb7d-0f4e-4183-bcd1-183992b80be9",
   "metadata": {},
   "outputs": [
    {
     "data": {
      "text/plain": [
       "tensor([[[4.1560e-01, 8.0723e-01],\n",
       "         [8.7418e-02, 3.9860e-01]],\n",
       "\n",
       "        [[2.4478e-01, 4.6929e-02],\n",
       "         [2.9359e-01, 5.1047e-01]],\n",
       "\n",
       "        [[5.1154e-01, 6.6125e-01],\n",
       "         [2.3222e-04, 5.4765e-01]]])"
      ]
     },
     "execution_count": 4,
     "metadata": {},
     "output_type": "execute_result"
    }
   ],
   "source": [
    "sample[0]"
   ]
  },
  {
   "cell_type": "markdown",
   "id": "af0fb4f0-0397-4ca5-b7a1-a9cce5eece3a",
   "metadata": {},
   "source": [
    "## Histogram"
   ]
  },
  {
   "cell_type": "code",
   "execution_count": 7,
   "id": "8eee6e3a-f1dd-41fe-be40-7f2598491e42",
   "metadata": {},
   "outputs": [
    {
     "data": {
      "text/plain": [
       "tensor([4.1560e-01, 8.0723e-01, 8.7418e-02, 3.9860e-01, 2.4478e-01, 4.6929e-02,\n",
       "        2.9359e-01, 5.1047e-01, 5.1154e-01, 6.6125e-01, 2.3222e-04, 5.4765e-01])"
      ]
     },
     "execution_count": 7,
     "metadata": {},
     "output_type": "execute_result"
    }
   ],
   "source": [
    "sample[0].flatten()"
   ]
  },
  {
   "cell_type": "code",
   "execution_count": 25,
   "id": "c25c6b28-53cf-45b4-bd86-6a6209412b97",
   "metadata": {},
   "outputs": [],
   "source": [
    "hist_bin = np.arange(0.0, 1.1, 0.05)"
   ]
  },
  {
   "cell_type": "code",
   "execution_count": 57,
   "id": "73c939b3-f6b4-4c39-80ef-576f778e8781",
   "metadata": {},
   "outputs": [
    {
     "data": {
      "image/png": "[encoded data removed]",
      "text/plain": [
       "<Figure size 648x432 with 1 Axes>"
      ]
     },
     "metadata": {
      "needs_background": "light"
     },
     "output_type": "display_data"
    }
   ],
   "source": [
    "fig = plt.figure(figsize=(9,6))\n",
    "\n",
    "n, bins, patches = plt.hist(sample.flatten().numpy(), bins=hist_bin, density=True)\n",
    "\n",
    "plt.xlabel('Consistency Weight')\n",
    "plt.ylabel('Probability')\n",
    "plt.title('Histogram of Consistency Weight')\n",
    "plt.grid(True)"
   ]
  },
  {
   "cell_type": "code",
   "execution_count": 60,
   "id": "18c4359b-d84a-4ffc-8843-de576a9858d7",
   "metadata": {},
   "outputs": [],
   "source": [
    "fig.savefig('./test.png', bbox_inches='tight', facecolor='w', edgecolor='w')"
   ]
  },
  {
   "cell_type": "code",
   "execution_count": null,
   "id": "cddf1218-2f98-41de-ae4d-d432f7a42049",
   "metadata": {},
   "outputs": [],
   "source": []
  }
 ],
 "metadata": {
  "kernelspec": {
   "display_name": "Python 3 (ipykernel)",
   "language": "python",
   "name": "python3"
  },
  "language_info": {
   "codemirror_mode": {
    "name": "ipython",
    "version": 3
   },
   "file_extension": ".py",
   "mimetype": "text/x-python",
   "name": "python",
   "nbconvert_exporter": "python",
   "pygments_lexer": "ipython3",
   "version": "3.8.12"
  }
 },
 "nbformat": 4,
 "nbformat_minor": 5
}
