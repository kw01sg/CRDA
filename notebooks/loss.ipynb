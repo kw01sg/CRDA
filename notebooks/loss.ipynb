{
 "cells": [
  {
   "cell_type": "code",
   "execution_count": 1,
   "id": "e8348b48-95f4-4030-acd2-f2ce64e67cab",
   "metadata": {},
   "outputs": [],
   "source": [
    "import torch\n",
    "import torch.nn.functional as F"
   ]
  },
  {
   "cell_type": "code",
   "execution_count": 2,
   "id": "c311b1f2-1b6d-4479-98be-1e6a91a3a60d",
   "metadata": {},
   "outputs": [
    {
     "data": {
      "text/plain": [
       "'1.10.2+cu113'"
      ]
     },
     "execution_count": 2,
     "metadata": {},
     "output_type": "execute_result"
    }
   ],
   "source": [
    "# need 1.10 for cross_entropy using probabilities for each class\n",
    "torch.__version__"
   ]
  },
  {
   "cell_type": "code",
   "execution_count": 3,
   "id": "81232b68-982e-48c0-84ea-c17c4888cc00",
   "metadata": {},
   "outputs": [],
   "source": [
    "from math import exp, log, log2, log10\n",
    "import numpy as np"
   ]
  },
  {
   "cell_type": "code",
   "execution_count": 4,
   "id": "41cc593b-cda7-4418-8eea-8cbac0a1e532",
   "metadata": {},
   "outputs": [],
   "source": [
    "input_shape = (4,3,2,2)"
   ]
  },
  {
   "cell_type": "code",
   "execution_count": 5,
   "id": "e045c956-8d3f-4bb5-ad4d-94903a0af60a",
   "metadata": {},
   "outputs": [],
   "source": [
    "input_array = torch.rand(input_shape)"
   ]
  },
  {
   "cell_type": "code",
   "execution_count": 6,
   "id": "01e8e752-5066-425a-b540-eadc9502b092",
   "metadata": {},
   "outputs": [
    {
     "data": {
      "text/plain": [
       "torch.Size([4, 3, 2, 2])"
      ]
     },
     "execution_count": 6,
     "metadata": {},
     "output_type": "execute_result"
    }
   ],
   "source": [
    "input_array.shape"
   ]
  },
  {
   "cell_type": "code",
   "execution_count": 7,
   "id": "d2bd25e8-2e05-48e1-a937-2be7986e6ef4",
   "metadata": {},
   "outputs": [
    {
     "data": {
      "text/plain": [
       "tensor([[[0.8255, 0.2463],\n",
       "         [0.0967, 0.2857]],\n",
       "\n",
       "        [[0.8029, 0.7693],\n",
       "         [0.8196, 0.8302]],\n",
       "\n",
       "        [[0.0506, 0.8951],\n",
       "         [0.0170, 0.9357]]])"
      ]
     },
     "execution_count": 7,
     "metadata": {},
     "output_type": "execute_result"
    }
   ],
   "source": [
    "input_array[0]"
   ]
  },
  {
   "cell_type": "code",
   "execution_count": 8,
   "id": "eb832434-802c-42f7-84d9-6a1006419a8e",
   "metadata": {},
   "outputs": [],
   "source": [
    "target_array = torch.rand(input_shape)"
   ]
  },
  {
   "cell_type": "code",
   "execution_count": 9,
   "id": "ddf8e6cd-32ca-46c8-9278-a53a5a6314b3",
   "metadata": {},
   "outputs": [
    {
     "data": {
      "text/plain": [
       "tensor([[[0.2759, 0.2657],\n",
       "         [0.4227, 0.3155]],\n",
       "\n",
       "        [[0.3252, 0.7790],\n",
       "         [0.3257, 0.2497]],\n",
       "\n",
       "        [[0.6062, 0.4456],\n",
       "         [0.9601, 0.1985]]])"
      ]
     },
     "execution_count": 9,
     "metadata": {},
     "output_type": "execute_result"
    }
   ],
   "source": [
    "target_array[0]"
   ]
  },
  {
   "cell_type": "markdown",
   "id": "262fab46-56ee-4aa8-bda8-4d3fcd5065c9",
   "metadata": {
    "jp-MarkdownHeadingCollapsed": true,
    "tags": []
   },
   "source": [
    "## MSELoss"
   ]
  },
  {
   "cell_type": "code",
   "execution_count": 9,
   "id": "ade2d196-a243-40c1-ba24-c36a32f6e0ab",
   "metadata": {},
   "outputs": [],
   "source": [
    "mse_loss = MSELoss(reduction='none')"
   ]
  },
  {
   "cell_type": "code",
   "execution_count": 10,
   "id": "916b0436-af9b-4145-bb6f-0a67afb66647",
   "metadata": {},
   "outputs": [],
   "source": [
    "output = mse_loss(sample, target)"
   ]
  },
  {
   "cell_type": "code",
   "execution_count": 11,
   "id": "5ed40ae2-2f59-4d65-a4c0-cae6336be0f8",
   "metadata": {},
   "outputs": [],
   "source": [
    "output = torch.sum(output, dim=1)"
   ]
  },
  {
   "cell_type": "code",
   "execution_count": 12,
   "id": "5d6e1ebe-0279-4efd-9e9c-26e4e2900c9c",
   "metadata": {},
   "outputs": [
    {
     "data": {
      "text/plain": [
       "torch.Size([3, 2, 2])"
      ]
     },
     "execution_count": 12,
     "metadata": {},
     "output_type": "execute_result"
    }
   ],
   "source": [
    "output.shape"
   ]
  },
  {
   "cell_type": "markdown",
   "id": "fc10062e-2199-4288-98a0-420ecf9f6557",
   "metadata": {},
   "source": [
    "### confirm output loss is correct"
   ]
  },
  {
   "cell_type": "code",
   "execution_count": 13,
   "id": "706c469a-665b-43f7-a3a2-53ea53002d52",
   "metadata": {},
   "outputs": [
    {
     "data": {
      "text/plain": [
       "tensor(0.8281)"
      ]
     },
     "execution_count": 13,
     "metadata": {},
     "output_type": "execute_result"
    }
   ],
   "source": [
    "output[0][0][0]"
   ]
  },
  {
   "cell_type": "code",
   "execution_count": 14,
   "id": "113500fa-2cbe-4f5f-a73f-87738ac33424",
   "metadata": {},
   "outputs": [
    {
     "data": {
      "text/plain": [
       "tensor([[[0.5877, 0.2064],\n",
       "         [0.6624, 0.0816]],\n",
       "\n",
       "        [[0.9403, 0.6024],\n",
       "         [0.3144, 0.9906]],\n",
       "\n",
       "        [[0.7961, 0.0529],\n",
       "         [0.4201, 0.1197]]])"
      ]
     },
     "execution_count": 14,
     "metadata": {},
     "output_type": "execute_result"
    }
   ],
   "source": [
    "sample[0]"
   ]
  },
  {
   "cell_type": "code",
   "execution_count": 15,
   "id": "5cbeb555-23a3-4452-9707-45c1c2390079",
   "metadata": {},
   "outputs": [
    {
     "data": {
      "text/plain": [
       "tensor([[[0.8001, 0.6994],\n",
       "         [0.1338, 0.9786]],\n",
       "\n",
       "        [[0.0906, 0.9563],\n",
       "         [0.3613, 0.3918]],\n",
       "\n",
       "        [[0.5490, 0.9035],\n",
       "         [0.0273, 0.7414]]])"
      ]
     },
     "execution_count": 15,
     "metadata": {},
     "output_type": "execute_result"
    }
   ],
   "source": [
    "target[0]"
   ]
  },
  {
   "cell_type": "code",
   "execution_count": 16,
   "id": "276947a8-7869-4789-b6bc-eaea8bdf2ccc",
   "metadata": {},
   "outputs": [],
   "source": [
    "test_array = []\n",
    "for i in range(3):\n",
    "    loss = (sample[0][i][0][0] - target[0][i][0][0])**2\n",
    "    test_array.append(loss)"
   ]
  },
  {
   "cell_type": "code",
   "execution_count": 17,
   "id": "aaf185b4-0df5-4e12-85ac-8a5ba6686c2e",
   "metadata": {},
   "outputs": [
    {
     "data": {
      "text/plain": [
       "tensor(0.8281)"
      ]
     },
     "execution_count": 17,
     "metadata": {},
     "output_type": "execute_result"
    }
   ],
   "source": [
    "# across 3 classes\n",
    "sum(test_array)"
   ]
  },
  {
   "cell_type": "markdown",
   "id": "cdc72766-07ee-41de-8ef0-cc688f357c56",
   "metadata": {},
   "source": [
    "## Cross Entropy Loss"
   ]
  },
  {
   "cell_type": "code",
   "execution_count": 10,
   "id": "2728ad45-ff79-4f7b-bf65-d5939fc29821",
   "metadata": {},
   "outputs": [
    {
     "data": {
      "text/plain": [
       "tensor([[[0.8255, 0.2463],\n",
       "         [0.0967, 0.2857]],\n",
       "\n",
       "        [[0.8029, 0.7693],\n",
       "         [0.8196, 0.8302]],\n",
       "\n",
       "        [[0.0506, 0.8951],\n",
       "         [0.0170, 0.9357]]])"
      ]
     },
     "execution_count": 10,
     "metadata": {},
     "output_type": "execute_result"
    }
   ],
   "source": [
    "input_array[0]"
   ]
  },
  {
   "cell_type": "code",
   "execution_count": 12,
   "id": "5bea8e5a-3774-47a6-aec8-f72fcd119a81",
   "metadata": {},
   "outputs": [
    {
     "data": {
      "text/plain": [
       "torch.Size([4, 3, 2, 2])"
      ]
     },
     "execution_count": 12,
     "metadata": {},
     "output_type": "execute_result"
    }
   ],
   "source": [
    "input_array.shape"
   ]
  },
  {
   "cell_type": "code",
   "execution_count": 11,
   "id": "2f367999-0a0d-4613-9397-14e6f606a9d7",
   "metadata": {},
   "outputs": [
    {
     "data": {
      "text/plain": [
       "tensor([[[0.2759, 0.2657],\n",
       "         [0.4227, 0.3155]],\n",
       "\n",
       "        [[0.3252, 0.7790],\n",
       "         [0.3257, 0.2497]],\n",
       "\n",
       "        [[0.6062, 0.4456],\n",
       "         [0.9601, 0.1985]]])"
      ]
     },
     "execution_count": 11,
     "metadata": {},
     "output_type": "execute_result"
    }
   ],
   "source": [
    "target_array[0]"
   ]
  },
  {
   "cell_type": "code",
   "execution_count": 14,
   "id": "1decd70c-61f9-4620-be6a-e3cdb6d39de9",
   "metadata": {},
   "outputs": [
    {
     "data": {
      "text/plain": [
       "torch.Size([4, 3, 2, 2])"
      ]
     },
     "execution_count": 14,
     "metadata": {},
     "output_type": "execute_result"
    }
   ],
   "source": [
    "target_array.shape"
   ]
  },
  {
   "cell_type": "code",
   "execution_count": 15,
   "id": "7dc7ea1f-8ba7-4edb-93c5-1310db5bfbf3",
   "metadata": {},
   "outputs": [],
   "source": [
    "output = F.cross_entropy(input_array, target_array, reduction='none')"
   ]
  },
  {
   "cell_type": "code",
   "execution_count": 16,
   "id": "c5e1e69b-5767-4dcf-81a4-c37fff7fb619",
   "metadata": {},
   "outputs": [
    {
     "data": {
      "text/plain": [
       "torch.Size([4, 2, 2])"
      ]
     },
     "execution_count": 16,
     "metadata": {},
     "output_type": "execute_result"
    }
   ],
   "source": [
    "output.shape"
   ]
  },
  {
   "cell_type": "code",
   "execution_count": 17,
   "id": "c90cddd6-b665-4422-b19c-eb1f7c5dbd94",
   "metadata": {},
   "outputs": [
    {
     "data": {
      "text/plain": [
       "tensor([[1.5531, 1.5779],\n",
       "        [2.2026, 0.9070]])"
      ]
     },
     "execution_count": 17,
     "metadata": {},
     "output_type": "execute_result"
    }
   ],
   "source": [
    "output[0]"
   ]
  },
  {
   "cell_type": "code",
   "execution_count": 18,
   "id": "d261cb1f-7f21-4fee-89ed-4fc39f16eb38",
   "metadata": {},
   "outputs": [
    {
     "data": {
      "text/plain": [
       "tensor([[1.8507, 0.7137],\n",
       "        [2.2131, 0.9993]])"
      ]
     },
     "execution_count": 18,
     "metadata": {},
     "output_type": "execute_result"
    }
   ],
   "source": [
    "output[1]"
   ]
  },
  {
   "cell_type": "markdown",
   "id": "12ee40c4-4892-453e-bec8-b7fb8af528d2",
   "metadata": {},
   "source": [
    "### Verifying calculation"
   ]
  },
  {
   "cell_type": "code",
   "execution_count": 19,
   "id": "4e304bd6-380c-4e99-b676-aded17908eae",
   "metadata": {},
   "outputs": [],
   "source": [
    "denominator = input_array.clone()\n",
    "denominator = torch.exp(denominator)\n",
    "denominator = denominator.sum(axis=1, keepdim=True)"
   ]
  },
  {
   "cell_type": "code",
   "execution_count": 20,
   "id": "8ef57e5f-d6d3-401f-96ab-9388a97301a1",
   "metadata": {},
   "outputs": [
    {
     "data": {
      "text/plain": [
       "torch.Size([4, 1, 2, 2])"
      ]
     },
     "execution_count": 20,
     "metadata": {},
     "output_type": "execute_result"
    }
   ],
   "source": [
    "denominator.shape"
   ]
  },
  {
   "cell_type": "code",
   "execution_count": 21,
   "id": "9e2e8117-eec8-41a9-920f-843158fba7f8",
   "metadata": {},
   "outputs": [],
   "source": [
    "consistency_loss = input_array.clone()\n",
    "consistency_loss = - torch.log(torch.exp(consistency_loss) / denominator) * target_array\n",
    "consistency_loss = consistency_loss.sum(axis=1)"
   ]
  },
  {
   "cell_type": "code",
   "execution_count": 22,
   "id": "a755f432-f325-4ead-a123-c4de38f38b20",
   "metadata": {},
   "outputs": [
    {
     "data": {
      "text/plain": [
       "tensor([[1.5531, 1.5779],\n",
       "        [2.2026, 0.9070]])"
      ]
     },
     "execution_count": 22,
     "metadata": {},
     "output_type": "execute_result"
    }
   ],
   "source": [
    "consistency_loss[0]"
   ]
  },
  {
   "cell_type": "code",
   "execution_count": 23,
   "id": "f84b9cb0-9fc2-42b6-843a-9c6a8d6c826b",
   "metadata": {},
   "outputs": [
    {
     "data": {
      "text/plain": [
       "tensor([[1.8507, 0.7137],\n",
       "        [2.2131, 0.9993]])"
      ]
     },
     "execution_count": 23,
     "metadata": {},
     "output_type": "execute_result"
    }
   ],
   "source": [
    "consistency_loss[1]"
   ]
  },
  {
   "cell_type": "code",
   "execution_count": 24,
   "id": "e773ef46-9af3-40d7-9526-7f39834dc953",
   "metadata": {},
   "outputs": [
    {
     "data": {
      "text/plain": [
       "True"
      ]
     },
     "execution_count": 24,
     "metadata": {},
     "output_type": "execute_result"
    }
   ],
   "source": [
    "np.allclose(output, consistency_loss)"
   ]
  },
  {
   "cell_type": "markdown",
   "id": "65bdb583-6aea-4033-8e84-847ca9e28992",
   "metadata": {},
   "source": [
    "## Inverse exponential loss"
   ]
  },
  {
   "cell_type": "code",
   "execution_count": 25,
   "id": "b7212657-54e2-4957-a660-a3907ff94047",
   "metadata": {},
   "outputs": [
    {
     "data": {
      "text/plain": [
       "tensor([[[1.5531, 1.5779],\n",
       "         [2.2026, 0.9070]],\n",
       "\n",
       "        [[1.8507, 0.7137],\n",
       "         [2.2131, 0.9993]],\n",
       "\n",
       "        [[1.9240, 1.3868],\n",
       "         [1.3340, 1.3083]],\n",
       "\n",
       "        [[0.6362, 0.2954],\n",
       "         [1.6721, 2.0073]]])"
      ]
     },
     "execution_count": 25,
     "metadata": {},
     "output_type": "execute_result"
    }
   ],
   "source": [
    "output"
   ]
  },
  {
   "cell_type": "code",
   "execution_count": 26,
   "id": "fd480045-ac71-48c2-b368-c7111853245e",
   "metadata": {},
   "outputs": [],
   "source": [
    "weights = output.clone()"
   ]
  },
  {
   "cell_type": "code",
   "execution_count": 27,
   "id": "d314d1c6-9ad0-48c6-9613-ed1634696de3",
   "metadata": {},
   "outputs": [
    {
     "data": {
      "text/plain": [
       "tensor([[[0.2116, 0.2064],\n",
       "         [0.1105, 0.4038]],\n",
       "\n",
       "        [[0.1571, 0.4898],\n",
       "         [0.1094, 0.3682]],\n",
       "\n",
       "        [[0.1460, 0.2499],\n",
       "         [0.2634, 0.2703]],\n",
       "\n",
       "        [[0.5293, 0.7442],\n",
       "         [0.1879, 0.1344]]])"
      ]
     },
     "execution_count": 27,
     "metadata": {},
     "output_type": "execute_result"
    }
   ],
   "source": [
    "weights.apply_(lambda x: 1/exp(abs(x)))"
   ]
  },
  {
   "cell_type": "code",
   "execution_count": 24,
   "id": "7cf150f2-f9e3-42e5-89fc-43f67b6e0897",
   "metadata": {},
   "outputs": [
    {
     "data": {
      "text/plain": [
       "tensor([[[0.7524, 0.3060],\n",
       "         [0.1306, 0.0195]],\n",
       "\n",
       "        [[0.6729, 0.6879],\n",
       "         [0.3878, 0.0731]],\n",
       "\n",
       "        [[0.7534, 0.6265],\n",
       "         [0.9868, 0.6129]]])"
      ]
     },
     "execution_count": 24,
     "metadata": {},
     "output_type": "execute_result"
    }
   ],
   "source": [
    "# examine high weight\n",
    "sample[2]"
   ]
  },
  {
   "cell_type": "code",
   "execution_count": 26,
   "id": "0ef369d8-e6b4-40c5-9201-70c18a1b8119",
   "metadata": {},
   "outputs": [
    {
     "data": {
      "text/plain": [
       "tensor([[[0.9832, 0.7142],\n",
       "         [0.7276, 0.5473]],\n",
       "\n",
       "        [[0.5862, 0.2266],\n",
       "         [0.2031, 0.8077]],\n",
       "\n",
       "        [[0.7425, 0.5329],\n",
       "         [0.2231, 0.0180]]])"
      ]
     },
     "execution_count": 26,
     "metadata": {},
     "output_type": "execute_result"
    }
   ],
   "source": [
    "target[2]"
   ]
  },
  {
   "cell_type": "code",
   "execution_count": null,
   "id": "1dfdc179-8480-4e6a-9f60-dff8e1a51ca6",
   "metadata": {},
   "outputs": [],
   "source": []
  }
 ],
 "metadata": {
  "kernelspec": {
   "display_name": "Python 3 (ipykernel)",
   "language": "python",
   "name": "python3"
  },
  "language_info": {
   "codemirror_mode": {
    "name": "ipython",
    "version": 3
   },
   "file_extension": ".py",
   "mimetype": "text/x-python",
   "name": "python",
   "nbconvert_exporter": "python",
   "pygments_lexer": "ipython3",
   "version": "3.7.11"
  }
 },
 "nbformat": 4,
 "nbformat_minor": 5
}
