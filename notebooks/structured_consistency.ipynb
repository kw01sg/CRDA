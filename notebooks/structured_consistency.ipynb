{
 "cells": [
  {
   "cell_type": "markdown",
   "id": "da292d8e-75a0-4aed-b5ea-ba35493a3923",
   "metadata": {},
   "source": [
    "# Testing Cosine Similarity Loss"
   ]
  },
  {
   "cell_type": "code",
   "execution_count": 7,
   "id": "744565ac-738d-42ee-8a4f-03e49a6725cd",
   "metadata": {},
   "outputs": [],
   "source": [
    "import torch\n",
    "import torch.nn.functional as F\n",
    "import numpy as np"
   ]
  },
  {
   "cell_type": "code",
   "execution_count": 2,
   "id": "aa1ff201-5424-4fa9-8e0e-172e06ed4c65",
   "metadata": {},
   "outputs": [],
   "source": [
    "# batch_size, num_vectors, num_dims\n",
    "dummy_shape = (2,3,3)"
   ]
  },
  {
   "cell_type": "code",
   "execution_count": 5,
   "id": "a5f54aba-d0da-476f-becb-4a98b68de405",
   "metadata": {},
   "outputs": [],
   "source": [
    "x_1 = torch.randn(dummy_shape)\n",
    "x_2 = torch.randn(dummy_shape)"
   ]
  },
  {
   "cell_type": "code",
   "execution_count": 6,
   "id": "ce852372-eb6d-43e3-98fa-3d3b28f86730",
   "metadata": {},
   "outputs": [
    {
     "data": {
      "text/plain": [
       "(tensor([[[-0.4128,  1.9865,  0.7096],\n",
       "          [ 0.1461,  0.3724, -0.8140],\n",
       "          [-0.2208, -0.8880,  0.7061]],\n",
       " \n",
       "         [[-1.6274, -1.2021, -0.7152],\n",
       "          [ 0.6671,  1.7572,  0.0586],\n",
       "          [-0.6044,  2.2627, -0.6261]]]),\n",
       " tensor([[[-2.0277,  0.0643, -0.8230],\n",
       "          [ 2.4958,  2.5395, -0.7325],\n",
       "          [-0.9439, -0.8864, -2.0320]],\n",
       " \n",
       "         [[ 0.1137, -0.0143, -1.6874],\n",
       "          [ 0.9421,  0.3634,  1.4555],\n",
       "          [-2.0639,  0.6597, -0.1250]]]))"
      ]
     },
     "execution_count": 6,
     "metadata": {},
     "output_type": "execute_result"
    }
   ],
   "source": [
    "x_1, x_2"
   ]
  },
  {
   "cell_type": "markdown",
   "id": "43db89f3-3081-443e-8922-b0cecf84a824",
   "metadata": {},
   "source": [
    "## Non-vectorized Approach"
   ]
  },
  {
   "cell_type": "code",
   "execution_count": 16,
   "id": "6d437add-ae58-4ecc-a92e-78acbb14278c",
   "metadata": {},
   "outputs": [],
   "source": [
    "result = np.zeros((dummy_shape[0], dummy_shape[1], dummy_shape[1]))\n",
    "\n",
    "for i in range(dummy_shape[0]):\n",
    "    for j in range(dummy_shape[1]):\n",
    "        for k in range(dummy_shape[1]):\n",
    "            result[i][j][k] = F.cosine_similarity(x_1[i][j], x_2[i][k], dim=0)"
   ]
  },
  {
   "cell_type": "code",
   "execution_count": 10,
   "id": "d96fa3e7-8c8d-40ec-b5ca-ece9f54892b6",
   "metadata": {},
   "outputs": [
    {
     "data": {
      "text/plain": [
       "tensor(0.0809)"
      ]
     },
     "execution_count": 15,
     "metadata": {},
     "output_type": "execute_result"
    }
   ],
   "source": [
    "F.cosine_similarity(x_1[0][0], x_2[0][0])"
   ]
  },
  {
   "cell_type": "code",
   "execution_count": 18,
   "id": "db76db10-bc51-4be5-b32c-190353f128b5",
   "metadata": {},
   "outputs": [
    {
     "data": {
      "text/plain": [
       "array([ 0.08090946,  0.44723642, -0.54316366])"
      ]
     },
     "execution_count": 18,
     "metadata": {},
     "output_type": "execute_result"
    }
   ],
   "source": [
    "# cosine similarity of x_1[0][0] against all vectors in x_2[0]\n",
    "result[0][0]"
   ]
  },
  {
   "cell_type": "code",
   "execution_count": 22,
   "id": "43a74fcf-93a3-4982-9443-ae1f7b1574f4",
   "metadata": {},
   "outputs": [],
   "source": [
    "result = np.zeros((dummy_shape[0], dummy_shape[1], dummy_shape[1]))\n",
    "\n",
    "for i in range(dummy_shape[0]):\n",
    "    for j in range(dummy_shape[1]):\n",
    "        for k in range(dummy_shape[1]):\n",
    "            result[i][j][k] = F.cosine_similarity(x_1[i][j], x_1[i][k], dim=0)"
   ]
  },
  {
   "cell_type": "code",
   "execution_count": 23,
   "id": "e35beb62-92ba-4406-a0df-8109e31c2219",
   "metadata": {},
   "outputs": [
    {
     "data": {
      "text/plain": [
       "array([[ 1.        ,  0.05220373, -0.47163579],\n",
       "       [ 0.05220373,  1.        , -0.89451832],\n",
       "       [-0.47163579, -0.89451832,  1.        ]])"
      ]
     },
     "execution_count": 23,
     "metadata": {},
     "output_type": "execute_result"
    }
   ],
   "source": [
    "result[0]"
   ]
  },
  {
   "cell_type": "code",
   "execution_count": 24,
   "id": "aced69a3-4b42-472e-8abe-8b7741f1ac63",
   "metadata": {},
   "outputs": [
    {
     "data": {
      "text/plain": [
       "array([[ 1.        , -0.80283338, -0.24766201],\n",
       "       [-0.80283338,  1.        ,  0.77568722],\n",
       "       [-0.24766201,  0.77568722,  1.        ]])"
      ]
     },
     "execution_count": 24,
     "metadata": {},
     "output_type": "execute_result"
    }
   ],
   "source": [
    "result[1]"
   ]
  },
  {
   "cell_type": "markdown",
   "id": "db1e838e-ce69-4d98-b433-62aba32faedc",
   "metadata": {},
   "source": [
    "## Testing custom function"
   ]
  },
  {
   "cell_type": "code",
   "execution_count": 30,
   "id": "aadd614a-e9c5-4c35-8ea4-1d226dd70353",
   "metadata": {},
   "outputs": [],
   "source": [
    "def cosine_pairwise(x):\n",
    "    # https://github.com/pytorch/pytorch/issues/11202#issuecomment-619532801\n",
    "    x = x.permute((1, 2, 0))\n",
    "    cos_sim_pairwise = F.cosine_similarity(x, x.unsqueeze(1), dim=-2)\n",
    "    cos_sim_pairwise = cos_sim_pairwise.permute((2, 0, 1))\n",
    "    return cos_sim_pairwise"
   ]
  },
  {
   "cell_type": "code",
   "execution_count": 31,
   "id": "ef960ea6-ebe9-4b23-a133-cde32d8b9715",
   "metadata": {},
   "outputs": [
    {
     "data": {
      "text/plain": [
       "tensor([[ 1.0000,  0.0522, -0.4716],\n",
       "        [ 0.0522,  1.0000, -0.8945],\n",
       "        [-0.4716, -0.8945,  1.0000]])"
      ]
     },
     "execution_count": 31,
     "metadata": {},
     "output_type": "execute_result"
    }
   ],
   "source": [
    "cosine_pairwise(x_1)[0]"
   ]
  },
  {
   "cell_type": "code",
   "execution_count": 32,
   "id": "042c8ba1-1a32-44ba-9546-c0ff7121d344",
   "metadata": {},
   "outputs": [
    {
     "data": {
      "text/plain": [
       "tensor([[ 1.0000, -0.8028, -0.2477],\n",
       "        [-0.8028,  1.0000,  0.7757],\n",
       "        [-0.2477,  0.7757,  1.0000]])"
      ]
     },
     "execution_count": 32,
     "metadata": {},
     "output_type": "execute_result"
    }
   ],
   "source": [
    "cosine_pairwise(x_1)[1]"
   ]
  },
  {
   "cell_type": "code",
   "execution_count": null,
   "id": "801b4020-6085-4555-9b2b-09897f1b6b00",
   "metadata": {},
   "outputs": [],
   "source": []
  },
  {
   "cell_type": "code",
   "execution_count": null,
   "id": "aa5cad8d-5ec3-4a77-ab86-0c9a06f5b8f1",
   "metadata": {},
   "outputs": [],
   "source": []
  },
  {
   "cell_type": "code",
   "execution_count": 35,
   "id": "a90cccb2-5e14-463d-a445-fcd5862d2466",
   "metadata": {},
   "outputs": [
    {
     "data": {
      "text/plain": [
       "tensor([[[-0.4128,  1.9865,  0.7096],\n",
       "         [ 0.1461,  0.3724, -0.8140],\n",
       "         [-0.2208, -0.8880,  0.7061]],\n",
       "\n",
       "        [[-1.6274, -1.2021, -0.7152],\n",
       "         [ 0.6671,  1.7572,  0.0586],\n",
       "         [-0.6044,  2.2627, -0.6261]]])"
      ]
     },
     "execution_count": 35,
     "metadata": {},
     "output_type": "execute_result"
    }
   ],
   "source": [
    "x_1"
   ]
  },
  {
   "cell_type": "code",
   "execution_count": 39,
   "id": "4b166577-3177-41de-b251-d63b521aa760",
   "metadata": {},
   "outputs": [
    {
     "data": {
      "text/plain": [
       "tensor([[[-0.4128,  1.9865],\n",
       "         [ 0.1461,  0.3724],\n",
       "         [-0.2208, -0.8880]],\n",
       "\n",
       "        [[-1.6274, -1.2021],\n",
       "         [ 0.6671,  1.7572],\n",
       "         [-0.6044,  2.2627]]])"
      ]
     },
     "execution_count": 39,
     "metadata": {},
     "output_type": "execute_result"
    }
   ],
   "source": [
    "x_1[:, :, torch.randperm(3)[:2]]"
   ]
  },
  {
   "cell_type": "code",
   "execution_count": 38,
   "id": "9e052afc-f9a9-4380-8550-3e56574c7727",
   "metadata": {},
   "outputs": [
    {
     "data": {
      "text/plain": [
       "tensor([2, 1])"
      ]
     },
     "execution_count": 38,
     "metadata": {},
     "output_type": "execute_result"
    }
   ],
   "source": [
    "torch.randperm(3)[:2]"
   ]
  }
 ],
 "metadata": {
  "kernelspec": {
   "display_name": "Python 3 (ipykernel)",
   "language": "python",
   "name": "python3"
  },
  "language_info": {
   "codemirror_mode": {
    "name": "ipython",
    "version": 3
   },
   "file_extension": ".py",
   "mimetype": "text/x-python",
   "name": "python",
   "nbconvert_exporter": "python",
   "pygments_lexer": "ipython3",
   "version": "3.8.12"
  }
 },
 "nbformat": 4,
 "nbformat_minor": 5
}
