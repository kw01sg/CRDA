{
 "cells": [
  {
   "cell_type": "code",
   "execution_count": 1,
   "id": "a2d7b24d-4450-410f-a443-d622cd3511ed",
   "metadata": {},
   "outputs": [],
   "source": [
    "import torch"
   ]
  },
  {
   "cell_type": "code",
   "execution_count": 2,
   "id": "c8ae21ae-78b2-4f5a-9b56-6217d0904cba",
   "metadata": {},
   "outputs": [],
   "source": [
    "input_shape = (4,3,2,2)"
   ]
  },
  {
   "cell_type": "code",
   "execution_count": 3,
   "id": "15c2aa5a-7f79-4409-82f0-ce76b8cf0656",
   "metadata": {},
   "outputs": [],
   "source": [
    "sample = torch.rand(input_shape)"
   ]
  },
  {
   "cell_type": "code",
   "execution_count": 4,
   "id": "b604232c-454f-46a3-a182-31676effab04",
   "metadata": {},
   "outputs": [
    {
     "data": {
      "text/plain": [
       "tensor([[[4.3239e-01, 4.8918e-01],\n",
       "         [5.8226e-01, 1.8305e-01]],\n",
       "\n",
       "        [[9.3113e-01, 9.2834e-04],\n",
       "         [3.5506e-01, 4.5909e-01]],\n",
       "\n",
       "        [[3.0494e-01, 6.8134e-01],\n",
       "         [2.1149e-01, 5.3663e-01]]])"
      ]
     },
     "execution_count": 4,
     "metadata": {},
     "output_type": "execute_result"
    }
   ],
   "source": [
    "sample[0]"
   ]
  },
  {
   "cell_type": "code",
   "execution_count": 23,
   "id": "d47526a5-c14e-4c07-bd54-c662c1d0769a",
   "metadata": {},
   "outputs": [],
   "source": [
    "std, mean = torch.std_mean(sample)"
   ]
  },
  {
   "cell_type": "markdown",
   "id": "22095b0d-9d4e-4ea1-9830-47e3caf8008e",
   "metadata": {},
   "source": [
    "## For Processed Weights"
   ]
  },
  {
   "cell_type": "code",
   "execution_count": 38,
   "id": "495e6e95-175a-4a8e-9473-ee13ef883c01",
   "metadata": {},
   "outputs": [
    {
     "data": {
      "text/plain": [
       "tensor([[1.0000, 0.0000],\n",
       "        [0.0000, 0.5000]])"
      ]
     },
     "execution_count": 38,
     "metadata": {},
     "output_type": "execute_result"
    }
   ],
   "source": [
    "sample = torch.eye(2) * 0.5\n",
    "sample[0][0] = 1\n",
    "sample"
   ]
  },
  {
   "cell_type": "code",
   "execution_count": 39,
   "id": "0fcf3b59-8f11-4acd-a5ae-9e7b45e0c408",
   "metadata": {},
   "outputs": [
    {
     "data": {
      "text/plain": [
       "tensor([[False,  True],\n",
       "        [ True, False]])"
      ]
     },
     "execution_count": 39,
     "metadata": {},
     "output_type": "execute_result"
    }
   ],
   "source": [
    "sample == 0"
   ]
  },
  {
   "cell_type": "code",
   "execution_count": 40,
   "id": "dfae7322-d7ef-40b1-b7dd-38a15fa499c2",
   "metadata": {},
   "outputs": [
    {
     "data": {
      "text/plain": [
       "tensor([[ True, False],\n",
       "        [False, False]])"
      ]
     },
     "execution_count": 40,
     "metadata": {},
     "output_type": "execute_result"
    }
   ],
   "source": [
    "sample == 1"
   ]
  },
  {
   "cell_type": "code",
   "execution_count": 44,
   "id": "0ef3871c-f0dc-4c36-aec5-12fb8891ba96",
   "metadata": {},
   "outputs": [
    {
     "data": {
      "text/plain": [
       "tensor([[False, False],\n",
       "        [False,  True]])"
      ]
     },
     "execution_count": 44,
     "metadata": {},
     "output_type": "execute_result"
    }
   ],
   "source": [
    "(sample != 0) & (sample != 1)"
   ]
  },
  {
   "cell_type": "code",
   "execution_count": 45,
   "id": "2ad7f9c1-999b-49aa-a012-cfb27e669c98",
   "metadata": {},
   "outputs": [
    {
     "data": {
      "text/plain": [
       "tensor([0.5000])"
      ]
     },
     "execution_count": 45,
     "metadata": {},
     "output_type": "execute_result"
    }
   ],
   "source": [
    "sample[(sample != 0) & (sample != 1)]"
   ]
  },
  {
   "cell_type": "code",
   "execution_count": 49,
   "id": "fb4575fb-3175-4311-b380-06d800500a4f",
   "metadata": {},
   "outputs": [
    {
     "data": {
      "text/plain": [
       "0.4527348577976227"
      ]
     },
     "execution_count": 49,
     "metadata": {},
     "output_type": "execute_result"
    }
   ],
   "source": [
    "mean.item()"
   ]
  }
 ],
 "metadata": {
  "kernelspec": {
   "display_name": "Python 3 (ipykernel)",
   "language": "python",
   "name": "python3"
  },
  "language_info": {
   "codemirror_mode": {
    "name": "ipython",
    "version": 3
   },
   "file_extension": ".py",
   "mimetype": "text/x-python",
   "name": "python",
   "nbconvert_exporter": "python",
   "pygments_lexer": "ipython3",
   "version": "3.7.11"
  }
 },
 "nbformat": 4,
 "nbformat_minor": 5
}
